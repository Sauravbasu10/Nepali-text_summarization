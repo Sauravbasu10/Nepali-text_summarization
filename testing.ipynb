{
 "cells": [
  {
   "cell_type": "code",
   "execution_count": 2,
   "metadata": {},
   "outputs": [
    {
     "name": "stdout",
     "output_type": "stream",
     "text": [
      "Requirement already satisfied: transformers in .\\7sem\\lib\\site-packages (4.38.2)Note: you may need to restart the kernel to use updated packages.\n",
      "\n",
      "Requirement already satisfied: filelock in .\\7sem\\lib\\site-packages (from transformers) (3.13.1)\n",
      "Requirement already satisfied: huggingface-hub<1.0,>=0.19.3 in .\\7sem\\lib\\site-packages (from transformers) (0.27.0)\n",
      "Requirement already satisfied: numpy>=1.17 in .\\7sem\\lib\\site-packages (from transformers) (1.26.4)\n",
      "Requirement already satisfied: packaging>=20.0 in .\\7sem\\lib\\site-packages (from transformers) (23.2)\n",
      "Requirement already satisfied: pyyaml>=5.1 in .\\7sem\\lib\\site-packages (from transformers) (6.0.1)\n",
      "Requirement already satisfied: regex!=2019.12.17 in .\\7sem\\lib\\site-packages (from transformers) (2023.12.25)\n",
      "Requirement already satisfied: requests in .\\7sem\\lib\\site-packages (from transformers) (2.32.3)\n",
      "Requirement already satisfied: tokenizers<0.19,>=0.14 in .\\7sem\\lib\\site-packages (from transformers) (0.15.2)\n",
      "Requirement already satisfied: safetensors>=0.4.1 in .\\7sem\\lib\\site-packages (from transformers) (0.4.2)\n",
      "Requirement already satisfied: tqdm>=4.27 in .\\7sem\\lib\\site-packages (from transformers) (4.67.1)\n",
      "Requirement already satisfied: fsspec>=2023.5.0 in .\\7sem\\lib\\site-packages (from huggingface-hub<1.0,>=0.19.3->transformers) (2024.2.0)\n",
      "Requirement already satisfied: typing-extensions>=3.7.4.3 in .\\7sem\\lib\\site-packages (from huggingface-hub<1.0,>=0.19.3->transformers) (4.10.0)\n",
      "Requirement already satisfied: colorama in .\\7sem\\lib\\site-packages (from tqdm>=4.27->transformers) (0.4.6)\n",
      "Requirement already satisfied: charset-normalizer<4,>=2 in .\\7sem\\lib\\site-packages (from requests->transformers) (3.3.2)\n",
      "Requirement already satisfied: idna<4,>=2.5 in .\\7sem\\lib\\site-packages (from requests->transformers) (3.6)\n",
      "Requirement already satisfied: urllib3<3,>=1.21.1 in .\\7sem\\lib\\site-packages (from requests->transformers) (2.2.1)\n",
      "Requirement already satisfied: certifi>=2017.4.17 in .\\7sem\\lib\\site-packages (from requests->transformers) (2024.2.2)\n",
      "Requirement already satisfied: datasets in .\\7sem\\lib\\site-packages (3.2.0)\n",
      "Requirement already satisfied: filelock in .\\7sem\\lib\\site-packages (from datasets) (3.13.1)\n",
      "Requirement already satisfied: numpy>=1.17 in .\\7sem\\lib\\site-packages (from datasets) (1.26.4)\n",
      "Requirement already satisfied: pyarrow>=15.0.0 in .\\7sem\\lib\\site-packages (from datasets) (18.1.0)\n",
      "Requirement already satisfied: dill<0.3.9,>=0.3.0 in .\\7sem\\lib\\site-packages (from datasets) (0.3.8)\n",
      "Requirement already satisfied: pandas in .\\7sem\\lib\\site-packages (from datasets) (2.2.3)\n",
      "Requirement already satisfied: requests>=2.32.2 in .\\7sem\\lib\\site-packages (from datasets) (2.32.3)\n",
      "Requirement already satisfied: tqdm>=4.66.3 in .\\7sem\\lib\\site-packages (from datasets) (4.67.1)\n",
      "Requirement already satisfied: xxhash in .\\7sem\\lib\\site-packages (from datasets) (3.5.0)\n",
      "Requirement already satisfied: multiprocess<0.70.17 in .\\7sem\\lib\\site-packages (from datasets) (0.70.16)\n",
      "Requirement already satisfied: fsspec<=2024.9.0,>=2023.1.0 in .\\7sem\\lib\\site-packages (from fsspec[http]<=2024.9.0,>=2023.1.0->datasets) (2024.2.0)\n",
      "Requirement already satisfied: aiohttp in .\\7sem\\lib\\site-packages (from datasets) (3.11.11)\n",
      "Requirement already satisfied: huggingface-hub>=0.23.0 in .\\7sem\\lib\\site-packages (from datasets) (0.27.0)\n",
      "Requirement already satisfied: packaging in .\\7sem\\lib\\site-packages (from datasets) (23.2)\n",
      "Requirement already satisfied: pyyaml>=5.1 in .\\7sem\\lib\\site-packages (from datasets) (6.0.1)\n",
      "Requirement already satisfied: aiohappyeyeballs>=2.3.0 in .\\7sem\\lib\\site-packages (from aiohttp->datasets) (2.4.4)\n",
      "Requirement already satisfied: aiosignal>=1.1.2 in .\\7sem\\lib\\site-packages (from aiohttp->datasets) (1.3.2)\n",
      "Requirement already satisfied: attrs>=17.3.0 in .\\7sem\\lib\\site-packages (from aiohttp->datasets) (24.3.0)\n",
      "Requirement already satisfied: frozenlist>=1.1.1 in .\\7sem\\lib\\site-packages (from aiohttp->datasets) (1.5.0)\n",
      "Requirement already satisfied: multidict<7.0,>=4.5 in .\\7sem\\lib\\site-packages (from aiohttp->datasets) (6.1.0)\n",
      "Requirement already satisfied: propcache>=0.2.0 in .\\7sem\\lib\\site-packages (from aiohttp->datasets) (0.2.1)\n",
      "Requirement already satisfied: yarl<2.0,>=1.17.0 in .\\7sem\\lib\\site-packages (from aiohttp->datasets) (1.18.3)\n",
      "Requirement already satisfied: typing-extensions>=3.7.4.3 in .\\7sem\\lib\\site-packages (from huggingface-hub>=0.23.0->datasets) (4.10.0)\n",
      "Requirement already satisfied: charset-normalizer<4,>=2 in .\\7sem\\lib\\site-packages (from requests>=2.32.2->datasets) (3.3.2)\n",
      "Requirement already satisfied: idna<4,>=2.5 in .\\7sem\\lib\\site-packages (from requests>=2.32.2->datasets) (3.6)\n",
      "Requirement already satisfied: urllib3<3,>=1.21.1 in .\\7sem\\lib\\site-packages (from requests>=2.32.2->datasets) (2.2.1)\n",
      "Requirement already satisfied: certifi>=2017.4.17 in .\\7sem\\lib\\site-packages (from requests>=2.32.2->datasets) (2024.2.2)\n",
      "Requirement already satisfied: colorama in .\\7sem\\lib\\site-packages (from tqdm>=4.66.3->datasets) (0.4.6)\n",
      "Requirement already satisfied: python-dateutil>=2.8.2 in .\\7sem\\lib\\site-packages (from pandas->datasets) (2.9.0.post0)\n",
      "Requirement already satisfied: pytz>=2020.1 in .\\7sem\\lib\\site-packages (from pandas->datasets) (2024.2)\n",
      "Requirement already satisfied: tzdata>=2022.7 in .\\7sem\\lib\\site-packages (from pandas->datasets) (2024.2)\n",
      "Requirement already satisfied: six>=1.5 in .\\7sem\\lib\\site-packages (from python-dateutil>=2.8.2->pandas->datasets) (1.17.0)\n",
      "Note: you may need to restart the kernel to use updated packages.\n"
     ]
    }
   ],
   "source": [
    "# %pip install transformers\n",
    "# %pip install datasets\n"
   ]
  },
  {
   "cell_type": "code",
   "execution_count": 4,
   "metadata": {},
   "outputs": [],
   "source": [
    "\n",
    "#Load Your Fine-Tuned Model\n",
    "\n",
    "from transformers import MT5ForConditionalGeneration, MT5Tokenizer\n",
    "model_name = \"Saurav20/mt5_old_train\"\n",
    "\n",
    "# Load the tokenizer and the model\n",
    "tokenizer = MT5Tokenizer.from_pretrained(\"Saurav20/mt5_old_train\")\n",
    "model = MT5ForConditionalGeneration.from_pretrained(\"Saurav20/mt5_old_train\")\n"
   ]
  },
  {
   "cell_type": "code",
   "execution_count": 2,
   "metadata": {},
   "outputs": [
    {
     "ename": "NameError",
     "evalue": "name 'tokenizer' is not defined",
     "output_type": "error",
     "traceback": [
      "\u001b[1;31m---------------------------------------------------------------------------\u001b[0m",
      "\u001b[1;31mNameError\u001b[0m                                 Traceback (most recent call last)",
      "Cell \u001b[1;32mIn[2], line 36\u001b[0m\n\u001b[0;32m     33\u001b[0m article_word_count \u001b[38;5;241m=\u001b[39m \u001b[38;5;28mlen\u001b[39m(article\u001b[38;5;241m.\u001b[39msplit())\n\u001b[0;32m     35\u001b[0m \u001b[38;5;66;03m# Generate summary and get its word count\u001b[39;00m\n\u001b[1;32m---> 36\u001b[0m summary \u001b[38;5;241m=\u001b[39m \u001b[43msummarize_text\u001b[49m\u001b[43m(\u001b[49m\u001b[43marticle\u001b[49m\u001b[43m)\u001b[49m\n\u001b[0;32m     37\u001b[0m summary_word_count \u001b[38;5;241m=\u001b[39m \u001b[38;5;28mlen\u001b[39m(summary\u001b[38;5;241m.\u001b[39msplit())\n\u001b[0;32m     39\u001b[0m \u001b[38;5;66;03m# Print results\u001b[39;00m\n",
      "Cell \u001b[1;32mIn[2], line 3\u001b[0m, in \u001b[0;36msummarize_text\u001b[1;34m(text, max_input_length, max_output_length)\u001b[0m\n\u001b[0;32m      1\u001b[0m \u001b[38;5;28;01mdef\u001b[39;00m \u001b[38;5;21msummarize_text\u001b[39m(text, max_input_length\u001b[38;5;241m=\u001b[39m\u001b[38;5;241m512\u001b[39m, max_output_length\u001b[38;5;241m=\u001b[39m\u001b[38;5;241m128\u001b[39m):\n\u001b[0;32m      2\u001b[0m     \u001b[38;5;66;03m# Tokenize the input text\u001b[39;00m\n\u001b[1;32m----> 3\u001b[0m     inputs \u001b[38;5;241m=\u001b[39m \u001b[43mtokenizer\u001b[49m(\n\u001b[0;32m      4\u001b[0m         text,\n\u001b[0;32m      5\u001b[0m         max_length\u001b[38;5;241m=\u001b[39mmax_input_length,\n\u001b[0;32m      6\u001b[0m         truncation\u001b[38;5;241m=\u001b[39m\u001b[38;5;28;01mTrue\u001b[39;00m,\n\u001b[0;32m      7\u001b[0m         return_tensors\u001b[38;5;241m=\u001b[39m\u001b[38;5;124m\"\u001b[39m\u001b[38;5;124mpt\u001b[39m\u001b[38;5;124m\"\u001b[39m,\n\u001b[0;32m      8\u001b[0m     )\n\u001b[0;32m     10\u001b[0m     \u001b[38;5;66;03m# Generate the summary\u001b[39;00m\n\u001b[0;32m     11\u001b[0m     outputs \u001b[38;5;241m=\u001b[39m model\u001b[38;5;241m.\u001b[39mgenerate(\n\u001b[0;32m     12\u001b[0m         inputs\u001b[38;5;241m.\u001b[39minput_ids,\n\u001b[0;32m     13\u001b[0m         max_length\u001b[38;5;241m=\u001b[39mmax_output_length,\n\u001b[0;32m     14\u001b[0m         num_beams\u001b[38;5;241m=\u001b[39m\u001b[38;5;241m4\u001b[39m,  \u001b[38;5;66;03m# Beam search for better summaries\u001b[39;00m\n\u001b[0;32m     15\u001b[0m         early_stopping\u001b[38;5;241m=\u001b[39m\u001b[38;5;28;01mTrue\u001b[39;00m,  \u001b[38;5;66;03m# Stop when the model is confident\u001b[39;00m\n\u001b[0;32m     16\u001b[0m     )\n",
      "\u001b[1;31mNameError\u001b[0m: name 'tokenizer' is not defined"
     ]
    }
   ],
   "source": [
    "def summarize_text(text, max_input_length=512, max_output_length=128):\n",
    "    # Tokenize the input text\n",
    "    inputs = tokenizer(\n",
    "        text,\n",
    "        max_length=max_input_length,\n",
    "        truncation=True,\n",
    "        return_tensors=\"pt\",\n",
    "    )\n",
    "\n",
    "    # Generate the summary\n",
    "    outputs = model.generate(\n",
    "        inputs.input_ids,\n",
    "        max_length=max_output_length,\n",
    "        num_beams=4,  # Beam search for better summaries\n",
    "        early_stopping=True,  # Stop when the model is confident\n",
    "    )\n",
    "\n",
    "    # Decode the summary back into text\n",
    "    summary = tokenizer.decode(outputs[0], skip_special_tokens=True)\n",
    "    return summary\n",
    "\n",
    "\n",
    "# Articles\n",
    "articles = [\n",
    "    \"नेपालका प्रमुख सहरहरूमा अहिलेको समयमा सार्वजनिक यातायातका साधनहरूको अवस्था निकै समस्याग्रस्त छ। यात्रुहरूले समयमै गन्तव्यमा पुग्न नपाउने र यात्रा क्रममा असुविधा महसुस गर्नुपर्ने समस्याहरू बारम्बार उठान गरिएका छन्। सार्वजनिक यातायातमा क्षमता भन्दा धेरै यात्रुहरूलाई राखेर यात्रा गरिनु, नियम विपरीत सवारी साधन सञ्चालन गर्नु, र सवारी चालकको लापरवाहीका कारण दैनिक यात्रुहरूले समस्याको सामना गरिरहेका छन्। सरकार र सम्बन्धित निकायले यो समस्याको दीर्घकालीन समाधान गर्न ध्यान दिनुपर्ने देखिन्छ।\",\n",
    "    \"कृषि क्षेत्र नेपालको अर्थतन्त्रको मुख्य आधारस्तम्भ हो। देशको अधिकांश जनसंख्या कृषि पेसामा निर्भर रहेकोले यस क्षेत्रको विकासले समग्र देशको विकासमा ठूलो भूमिका खेल्न सक्छ। विगत केही वर्षहरूमा जैविक कृषि प्रविधिहरू र दिगो कृषि प्रणालीहरूको प्रयोगमा वृद्धि भएको छ। तर, किसानहरूले भोग्दै आएका समस्याहरू जस्तै मलखाद र बीउको अभाव, उचित मूल्य नपाउने, र बजार व्यवस्थापनमा रहेको कमजोरीलाई समाधान गर्न सरकारलाई थप प्रयास गर्नुपर्ने आवश्यकता छ।\",\n",
    "    \"पर्यावरण संरक्षण र जलवायु परिवर्तनका विषय अहिलेको समयमा अत्यन्तै महत्वपूर्ण मुद्दाहरू बनिरहेका छन्। नेपालले ग्लोबल वार्मिङ र जलवायु परिवर्तनका प्रभावहरू महसुस गर्न थालेको छ। हिमालय क्षेत्रमा हिउँ पग्लिने गति बढिरहेको छ जसले देशका मुख्य नदी प्रणालीमा असर पारिरहेको छ। यसका साथै, बाढी, पहिरो, र अन्य प्राकृतिक प्रकोपहरूको दर पनि बढ्दो क्रममा छ। दीर्घकालीन वातावरणीय प्रभावलाई कम गर्न नेपालले नवीकरणीय ऊर्जा प्रविधिहरू, वन संरक्षण, र जनचेतना कार्यक्रमहरूमा जोड दिन थालेको छ। तर, यसका लागि अन्तर्राष्ट्रिय सहयोग र वित्तीय स्रोतहरूको आवश्यकता छ।\"\n",
    "]\n",
    "\n",
    "# Summarize each article with word counts\n",
    "for i, article in enumerate(articles):\n",
    "    # Word count of the article\n",
    "    article_word_count = len(article.split())\n",
    "\n",
    "    # Generate summary and get its word count\n",
    "    summary = summarize_text(article)\n",
    "    summary_word_count = len(summary.split())\n",
    "\n",
    "    # Print results\n",
    "    print(f\"Article {i+1} (Word Count: {article_word_count}):\")\n",
    "    print(article)\n",
    "    print(\"\\nSummary (Word Count: {}):\".format(summary_word_count))\n",
    "    print(summary)\n",
    "    print(\"\\n\" + \"-\"*50 + \"\\n\")\n"
   ]
  },
  {
   "cell_type": "code",
   "execution_count": 20,
   "metadata": {},
   "outputs": [
    {
     "name": "stdout",
     "output_type": "stream",
     "text": [
      "Requirement already satisfied: rouge-score in .\\7sem\\lib\\site-packages (0.1.2)Note: you may need to restart the kernel to use updated packages.\n",
      "\n",
      "Requirement already satisfied: absl-py in .\\7sem\\lib\\site-packages (from rouge-score) (2.1.0)\n",
      "Requirement already satisfied: nltk in .\\7sem\\lib\\site-packages (from rouge-score) (3.9.1)\n",
      "Requirement already satisfied: numpy in .\\7sem\\lib\\site-packages (from rouge-score) (1.26.4)\n",
      "Requirement already satisfied: six>=1.14.0 in .\\7sem\\lib\\site-packages (from rouge-score) (1.17.0)\n",
      "Requirement already satisfied: click in .\\7sem\\lib\\site-packages (from nltk->rouge-score) (8.1.7)\n",
      "Requirement already satisfied: joblib in .\\7sem\\lib\\site-packages (from nltk->rouge-score) (1.4.2)\n",
      "Requirement already satisfied: regex>=2021.8.3 in .\\7sem\\lib\\site-packages (from nltk->rouge-score) (2023.12.25)\n",
      "Requirement already satisfied: tqdm in .\\7sem\\lib\\site-packages (from nltk->rouge-score) (4.67.1)\n",
      "Requirement already satisfied: colorama in .\\7sem\\lib\\site-packages (from click->nltk->rouge-score) (0.4.6)\n"
     ]
    }
   ],
   "source": [
    "# %pip install datasets rouge_score\n",
    "%pip install rouge-score\n"
   ]
  }
 ],
 "metadata": {
  "kernelspec": {
   "display_name": "7sem",
   "language": "python",
   "name": "python3"
  },
  "language_info": {
   "codemirror_mode": {
    "name": "ipython",
    "version": 3
   },
   "file_extension": ".py",
   "mimetype": "text/x-python",
   "name": "python",
   "nbconvert_exporter": "python",
   "pygments_lexer": "ipython3",
   "version": "3.12.5"
  }
 },
 "nbformat": 4,
 "nbformat_minor": 2
}
